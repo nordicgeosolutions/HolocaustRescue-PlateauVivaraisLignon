{
 "cells": [
  {
   "cell_type": "code",
   "execution_count": 1,
   "id": "77c3d342-6a79-4736-b6da-3f1b45c5a5bd",
   "metadata": {},
   "outputs": [
    {
     "name": "stdout",
     "output_type": "stream",
     "text": [
      "[0.49924648 0.49905635 0.49905635 0.49663434 0.49663434 0.46435047\n",
      " 0.43003192 0.48952901 0.48952901 0.48952901 0.48952901 0.48952901\n",
      " 0.48952901 0.48952901 0.49343745 0.45177106 0.45177106 0.49115409\n",
      " 0.49115409 0.49430841 0.49430841 0.49430841 0.49851907 0.49851907\n",
      " 0.49851907 0.49851907 0.49851907 0.49851907 0.49851907 0.43489316\n",
      " 0.43489316 0.44765505 0.44765505 0.4863928  0.4863928  0.4863928\n",
      " 0.4863928  0.49065803 0.49065803 0.49065803 0.49065803 0.46307934\n",
      " 0.46307934 0.46307934 0.46307934 0.46307934 0.4800017  0.4800017\n",
      " 0.49963232 0.49963232 0.43749791]\n"
     ]
    }
   ],
   "source": [
    "\"\"\"\n",
    "\n",
    "Given a batch of confidence scores (presumably the top confidence value\n",
    "for each sample in your batch), calculate a proxy for Standard Deviation.\n",
    "                                                 \n",
    "Important Clarification\n",
    "•\tThese numbers are single probability values per example \n",
    "(not full probability distributions per example).\n",
    "\n",
    "You Can Calculate Standard Deviation as a Proxy (if needed):\n",
    "For each of these values, you can compute the uncertainty for the \n",
    "binary question: \n",
    "\"How certain is the model about this prediction (yes/no for this class)?\"\n",
    "Use: [ \\text{Std} = \\sqrt{p \\cdot (1 - p)} ]\n",
    "Where ( p ) is each of your values.\n",
    "________________________________________\n",
    "\n",
    "\"\"\"\n",
    "\n",
    "import numpy as np\n",
    "\n",
    "probs = np.array([\n",
    "    0.527440031, 0.469295611, 0.469295611, 0.557916621, 0.557916621, 0.685414791,\n",
    "    0.244906783, 0.601790718, 0.601790718, 0.601790718, 0.601790718, 0.601790718,\n",
    "    0.601790718, 0.601790718, 0.419256657, 0.714249641, 0.714249641, 0.406364242,\n",
    "    0.406364242, 0.575227635, 0.575227635, 0.575227635, 0.538454367, 0.538454367,\n",
    "    0.538454367, 0.538454367, 0.538454367, 0.538454367, 0.538454367, 0.746714283,\n",
    "    0.746714283, 0.722721711, 0.722721711, 0.615853535, 0.615853535, 0.615853535,\n",
    "    0.615853535, 0.596201349, 0.596201349, 0.596201349, 0.596201349, 0.688567033,\n",
    "    0.688567033, 0.688567033, 0.688567033, 0.688567033, 0.639994182, 0.639994182,\n",
    "    0.519171536, 0.519171536, 0.742065236,\n",
    "])\n",
    "\n",
    "# Standard deviation proxy (uncertainty)\n",
    "stdproxy = np.sqrt(probs * (1 - probs))\n",
    "print(stdproxy)"
   ]
  },
  {
   "cell_type": "code",
   "execution_count": null,
   "id": "85e27b00-8f68-4f2c-94eb-435cfcb5c368",
   "metadata": {},
   "outputs": [],
   "source": [
    "\"\"\"\n",
    "\n",
    "    Maximum “uncertainty” is 0.5 (at 0.5 probability).\n",
    "    Lower values = more confident prediction at ends of probability.\n",
    "\"\"\""
   ]
  }
 ],
 "metadata": {
  "kernelspec": {
   "display_name": "Python 3 (ipykernel)",
   "language": "python",
   "name": "python3"
  },
  "language_info": {
   "codemirror_mode": {
    "name": "ipython",
    "version": 3
   },
   "file_extension": ".py",
   "mimetype": "text/x-python",
   "name": "python",
   "nbconvert_exporter": "python",
   "pygments_lexer": "ipython3",
   "version": "3.9.19"
  }
 },
 "nbformat": 4,
 "nbformat_minor": 5
}
