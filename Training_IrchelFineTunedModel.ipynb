{
 "cells": [
  {
   "cell_type": "code",
   "execution_count": null,
   "id": "11ad3ca5-802a-4fd4-8f00-bf120580794d",
   "metadata": {},
   "outputs": [],
   "source": [
    "\"\"\"\n",
    "To establish a training corpus to create a finely-tuned model:\n",
    "Prepare a dataset formatted as a list of tuples, where each tuple contains a text string and an associated list of annotations. \n",
    "Annotations should be tuples of (toponym string, start character, end character, location id) that mark the toponyms within the text:\n",
    "\n",
    "NOTE:  This is just a tiny sample of the training corpus, and represents just one iteration of many.\n",
    "\n",
    "\"\"\"\n",
    "\n",
    "train_corpus = [\n",
    "    (\"She received a letter asking whether she wanted to send some children to a very nice school in Haute-Loire at an elevation of one thousand meters.\", [(\"Haute-Loire\", 95, 106, 3013760)]),\n",
    "(\"I left aboard the Marseilles to Paris express train, crossed the La Voulte bridge.  I took the Le Cheylard local train, and I made my way to Saint Agrève.\", [(\"Saint-Agrève\", 141, 153, 2981901)]),\n",
    "(\"I arrived at St. Agrève at 11:49 p.m. The train did not go beyond there.\", [(\"Saint-Agrève\", 13, 23, 2981901)]),\n",
    "(\"And I was told to get off at a place called Le Chambon-sur-Lignon.\", [(\"Le Chambon-sur-Lignon\", 44, 65, 3004774)])\n",
    "]"
   ]
  },
  {
   "cell_type": "code",
   "execution_count": null,
   "id": "459f55a3-fe71-41cc-9f0e-7fb4182b4dde",
   "metadata": {},
   "outputs": [],
   "source": [
    "#Check for CUDA-enabled GPU. \n",
    "#If available (True), then Geoparser will automatically use the GPU.\n",
    "\n",
    "import torch\n",
    "\n",
    "print(torch.cuda.is_available())"
   ]
  },
  {
   "cell_type": "code",
   "execution_count": null,
   "id": "1d2538ff-0604-40e6-abc4-d7a3d8f9289d",
   "metadata": {},
   "outputs": [],
   "source": [
    "\"\"\"\n",
    "Once you have your dataset, use the annotate method to convert the text and annotations into \n",
    "gold GeoDoc objects suitable for training:\n",
    "\n",
    "This uses the \"dguzh/geo-all-distilroberta-v1\" transformer model, as I found this most effective. \n",
    "There are other models available (see Irchel Geoparser documentation on the library's website...\n",
    "\"\"\"\n",
    "\n",
    "from geoparser import GeoparserTrainer\n",
    "\n",
    "trainer = GeoparserTrainer(transformer_model=\"dguzh/geo-all-distilroberta-v1\")\n",
    "\n",
    "train_docs = trainer.annotate(train_corpus)"
   ]
  },
  {
   "cell_type": "code",
   "execution_count": null,
   "id": "89b9dfa9-aeda-4f15-8e2d-7f8ce2c0b28a",
   "metadata": {},
   "outputs": [],
   "source": [
    "\"\"\"\n",
    "Then train a model using the prepared documents, with the output path the location of the model you \n",
    "are training.\n",
    "\"\"\"\n",
    "\n",
    "output_path = \"C:/Users/....../TrainedModel/\"\n",
    "\n",
    "trainer.train(train_docs, output_path=output_path)"
   ]
  },
  {
   "cell_type": "code",
   "execution_count": null,
   "id": "892bd4e9-1230-4be9-8063-da576bef8246",
   "metadata": {},
   "outputs": [],
   "source": [
    "\"\"\"\n",
    "After training, create a test corpus (NOTE:  again, this is just a tiny sample below).\n",
    "\n",
    "Then, you can use your fine-tuned model to resolve toponyms in a test set and evaluate \n",
    "how well your model performed:\n",
    "\n",
    "It will calculate your model's overall Accuracy, Accuracy at 161 km, Mean error distance, and\n",
    "Area Under the Curve, all calculated using traditional metrics in the field.\n",
    "\n",
    "\"\"\"\n",
    "\n",
    "test_corpus = [\n",
    "    (\"She received a letter asking whether she wanted to send some children to a very nice school in Haute-Loire at an elevation of one thousand meters.\", [(\"Haute-Loire\", 95, 106, 3013760)]),\n",
    "(\"I left aboard the Marseilles to Paris express train, crossed the La Voulte bridge.  I took the Le Cheylard local train, and I made my way to Saint Agrève.\", [(\"Saint-Agrève\", 141, 153, 2981901)]),\n",
    "(\"I arrived at St. Agrève at 11:49 p.m. The train did not go beyond there.\", [(\"Saint-Agrève\", 13, 23, 2981901)]),\n",
    "(\"And I was told to get off at a place called Le Chambon-sur-Lignon.\", [(\"Le Chambon-sur-Lignon\", 44, 65, 3004774)])\n",
    "]\n",
    "\n",
    "test_docs = trainer.annotate(test_corpus)\n",
    "\n",
    "trainer.resolve(test_docs)\n",
    "\n",
    "evaluation_results = trainer.evaluate(test_docs)\n",
    "\n",
    "print(evaluation_results)"
   ]
  },
  {
   "cell_type": "code",
   "execution_count": null,
   "id": "b22ba88c-2157-4983-9ec0-acf26474c11b",
   "metadata": {},
   "outputs": [],
   "source": []
  }
 ],
 "metadata": {
  "kernelspec": {
   "display_name": "Python 3 (ipykernel)",
   "language": "python",
   "name": "python3"
  },
  "language_info": {
   "codemirror_mode": {
    "name": "ipython",
    "version": 3
   },
   "file_extension": ".py",
   "mimetype": "text/x-python",
   "name": "python",
   "nbconvert_exporter": "python",
   "pygments_lexer": "ipython3",
   "version": "3.9.19"
  }
 },
 "nbformat": 4,
 "nbformat_minor": 5
}
